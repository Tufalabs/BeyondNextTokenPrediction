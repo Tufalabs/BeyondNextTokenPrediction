{
 "cells": [
  {
   "cell_type": "code",
   "execution_count": null,
   "metadata": {},
   "outputs": [],
   "source": [
    "def format_easier_variant_prompt(question: str) -> str:\n",
    "    prompt = f\"\"\"\n",
    "    You are an expert physics teacher. Given a challenging physics question, create 2 easier variants \n",
    "    of the same problem that help build understanding toward the original question.\n",
    "    The variants should:\n",
    "    1. Focus on simpler aspects of the same concept\n",
    "    2. Use round numbers or simpler scenarios\n",
    "    3. Break down complex calculations into smaller steps\n",
    "    \n",
    "    Original Question:\n",
    "    {question}\n",
    "\n",
    "    Format your response as:\n",
    "    <variant>\n",
    "    [First easier version of the question]\n",
    "    </variant>\n",
    "    <variant>\n",
    "    [Second easier version of the question]\n",
    "    </variant>\n",
    "    \"\"\"\n",
    "    return prompt\n",
    "\n",
    "def extract_variants(text: str) -> list[str]:\n",
    "    \"\"\"\n",
    "    Extract variant questions from text that contains XML-like tags.\n",
    "    Returns a list of variant questions.\n",
    "    \"\"\"\n",
    "    import re\n",
    "    \n",
    "    # Pattern to match variants\n",
    "    pattern = r'<variant\\>(.*?)</variant\\>'\n",
    "    \n",
    "    # Find all matches in the text\n",
    "    matches = re.findall(pattern, text, re.DOTALL)\n",
    "    \n",
    "    # Clean up whitespace in the results\n",
    "    variants = [v.strip() for v in matches]\n",
    "    \n",
    "    return variants\n",
    "\n",
    "# Example usage:\n",
    "variant_prompt = format_easier_variant_prompt(question)\n",
    "variants_text = await generate_text(model=\"gpt-4o-mini\", prompt=variant_prompt)\n",
    "variants = extract_variants(variants_text)"
   ]
  },
  {
   "cell_type": "code",
   "execution_count": null,
   "metadata": {},
   "outputs": [],
   "source": []
  },
  {
   "cell_type": "code",
   "execution_count": null,
   "metadata": {},
   "outputs": [
    {
     "name": "stdout",
     "output_type": "stream",
     "text": [
      "Consider the equation \\( \\cos(x) + \\sin(x) = 0 \\). Compute the number of solutions \\( x \\in [0, 2\\pi] \\).\n",
      "------------\n",
      "Now, solve the equation \\( \\cos(x) = -\\sin(x) \\) for \\( x \\in [0, \\pi] \\). How many solutions can you find in this interval?\n",
      "------------\n"
     ]
    }
   ],
   "source": [
    "for variant in variants:\n",
    "    print(variant)\n",
    "    print(\"------------\")"
   ]
  },
  {
   "cell_type": "code",
   "execution_count": null,
   "metadata": {},
   "outputs": [
    {
     "name": "stdout",
     "output_type": "stream",
     "text": [
      "Number of solutions in [0, π]: 1\n"
     ]
    }
   ],
   "source": [
    "import numpy as np\n",
    "import math\n",
    "\n",
    "def f(x):\n",
    "    return math.cos(x) + math.sin(x)\n",
    "\n",
    "def count_roots(num_points=1000000):\n",
    "    # Create a grid of points between 0 and π\n",
    "    xs = np.linspace(0, math.pi, num_points)\n",
    "    \n",
    "    # Evaluate f(x) over the grid\n",
    "    f_values = [f(x) for x in xs]\n",
    "    \n",
    "    count = 0\n",
    "    # Look for sign changes between consecutive points\n",
    "    for i in range(len(f_values) - 1):\n",
    "        if f_values[i] * f_values[i+1] < 0:\n",
    "            count += 1\n",
    "    return count\n",
    "\n",
    "if __name__ == '__main__':\n",
    "    num_solutions = count_roots()\n",
    "    print(\"Number of solutions in [0, π]:\", num_solutions)\n"
   ]
  }
 ],
 "metadata": {
  "language_info": {
   "name": "python"
  }
 },
 "nbformat": 4,
 "nbformat_minor": 2
}
