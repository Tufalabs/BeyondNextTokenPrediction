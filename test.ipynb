{
 "cells": [
  {
   "cell_type": "code",
   "execution_count": 15,
   "metadata": {},
   "outputs": [],
   "source": [
    "def format_easier_variant_prompt(question: str) -> str:\n",
    "    prompt = f\"\"\"\n",
    "    You are an expert physics teacher. Given a challenging physics question, create 2 easier variants \n",
    "    of the same problem that help build understanding toward the original question.\n",
    "    The variants should:\n",
    "    1. Focus on simpler aspects of the same concept\n",
    "    2. Use round numbers or simpler scenarios\n",
    "    3. Break down complex calculations into smaller steps\n",
    "    \n",
    "    Original Question:\n",
    "    {question}\n",
    "\n",
    "    Format your response as:\n",
    "    <variant>\n",
    "    [First easier version of the question]\n",
    "    </variant>\n",
    "    <variant>\n",
    "    [Second easier version of the question]\n",
    "    </variant>\n",
    "    \"\"\"\n",
    "    return prompt\n",
    "\n",
    "def extract_variants(text: str) -> list[str]:\n",
    "    \"\"\"\n",
    "    Extract variant questions from text that contains XML-like tags.\n",
    "    Returns a list of variant questions.\n",
    "    \"\"\"\n",
    "    import re\n",
    "    \n",
    "    # Pattern to match variants\n",
    "    pattern = r'<variant\\>(.*?)</variant\\>'\n",
    "    \n",
    "    # Find all matches in the text\n",
    "    matches = re.findall(pattern, text, re.DOTALL)\n",
    "    \n",
    "    # Clean up whitespace in the results\n",
    "    variants = [v.strip() for v in matches]\n",
    "    \n",
    "    return variants\n",
    "\n",
    "# Example usage:\n",
    "variant_prompt = format_easier_variant_prompt(question)\n",
    "variants_text = await generate_text(model=\"gpt-4o-mini\", prompt=variant_prompt)\n",
    "variants = extract_variants(variants_text)"
   ]
  },
  {
   "cell_type": "code",
   "execution_count": null,
   "metadata": {},
   "outputs": [],
   "source": []
  },
  {
   "cell_type": "code",
   "execution_count": 16,
   "metadata": {},
   "outputs": [
    {
     "name": "stdout",
     "output_type": "stream",
     "text": [
      "Consider the equation \\( \\cos(x) + \\sin(x) = 0 \\). Compute the number of solutions \\( x \\in [0, 2\\pi] \\).\n",
      "------------\n",
      "Now, solve the equation \\( \\cos(x) = -\\sin(x) \\) for \\( x \\in [0, \\pi] \\). How many solutions can you find in this interval?\n",
      "------------\n"
     ]
    }
   ],
   "source": [
    "for variant in variants:\n",
    "    print(variant)\n",
    "    print(\"------------\")"
   ]
  },
  {
   "cell_type": "code",
   "execution_count": 17,
   "metadata": {},
   "outputs": [
    {
     "name": "stdout",
     "output_type": "stream",
     "text": [
      "Number of solutions in [0, π]: 1\n"
     ]
    }
   ],
   "source": [
    "import numpy as np\n",
    "import math\n",
    "\n",
    "def f(x):\n",
    "    return math.cos(x) + math.sin(x)\n",
    "\n",
    "def count_roots(num_points=1000000):\n",
    "    # Create a grid of points between 0 and π\n",
    "    xs = np.linspace(0, math.pi, num_points)\n",
    "    \n",
    "    # Evaluate f(x) over the grid\n",
    "    f_values = [f(x) for x in xs]\n",
    "    \n",
    "    count = 0\n",
    "    # Look for sign changes between consecutive points\n",
    "    for i in range(len(f_values) - 1):\n",
    "        if f_values[i] * f_values[i+1] < 0:\n",
    "            count += 1\n",
    "    return count\n",
    "\n",
    "if __name__ == '__main__':\n",
    "    num_solutions = count_roots()\n",
    "    print(\"Number of solutions in [0, π]:\", num_solutions)\n"
   ]
  },
  {
   "cell_type": "code",
   "execution_count": 9,
   "metadata": {},
   "outputs": [
    {
     "name": "stdout",
     "output_type": "stream",
     "text": [
      "\n",
      "Page 100 content:\n",
      "d of a light source and a viewing microscope. During their fall, the drops acquired electrons \n",
      " \n",
      "Millikan had produced by bombarding the air in the chamber with ionizing radiation  \n",
      "(a kind of energy described in Chapter 8). The electrons imparted a negative charge to the drops. In \n",
      "the lower portion of the apparatus, Millikan could \n",
      "create an electric field between two metal plates. Since the lower plate was negatively charged, and since \n",
      "Millikan could vary the strength of the electric field, \n",
      "he could slow or even reverse the free fall of the nega\n",
      "-\n",
      "tively charged drops. (Remember that like charges repel each other.)\n",
      "By measuring the strength of the electric field \n",
      "required to halt the free fall of the drops and by figur\n",
      "-\n",
      "ing out the masses of the drops themselves (deter -\n",
      "mined from their radii and density), Millikan calculated the charge of each drop. He then reasoned \n",
      "that, since each drop must contain an integral (or \n",
      "whole) number of electrons, the charge of each drop must be a whole-number multiple of the electron’s \n",
      "charge. Indeed, Millikan was correct; the measured \n",
      "charge on any drop is always a whole-number multi\n",
      "-\n",
      "ple of -1.60*10-19 C, the fundamental charge of a \n",
      "single electron.\n",
      "Charge-to-Mass Ratio of the Electron\n",
      "Magnet\n",
      "Electrically charged platesElectron beam\n",
      "Evacuated tubeElectric and magnetic ﬁelds\n",
      "deﬂect the electron beam.\n",
      "Deﬂected beamsN\n",
      "S\n",
      "+-Undeﬂectedelectron beam\n",
      "Anode\n",
      "Cathode+-▶ FIGURE 2.3 Thomson’s \n",
      "Measurement of the Charge-  \n",
      "to-Mass Ratio of the Electron   \n",
      "J. J. Thomson used electric and \n",
      "magnetic fields to deflect the electron beam in a cathode ray tube. By measuring the strengths at which the effects of the two fields (electric and magnetic) cancel exactly, leaving the beam undeflected, he was able to calculate the charge-to-mass ratio of the electron.\n",
      "Viewing\n",
      "microscopeIonizing\n",
      "radiation\n",
      "Light\n",
      "sourceAtomizer\n",
      "Positively\n",
      "charged plate\n",
      "Negatively\n",
      "charged plateCharged oil droplets aresuspended in the electric ﬁeld.\n",
      "▲ FIGURE 2.4 Millikan’s Measurement of the Electron’s \n",
      "Charge Millikan calculated the charge on oil droplets falling in an electric \n",
      "field. He found that it was always a whole-number multiple of -1.60*10-19 C, \n",
      "the charge of a single electron.\n",
      "M02_TRO4371_05_SE_C02_048-089v3.0.2.indd   56 15/11/18   12:34 PM\n",
      "\n",
      "<<<PAGE 100>>>\n",
      "\n",
      " 2.5 The Structure of the Atom 57\n",
      "With this number in hand and knowing Thomson’s mass-to-charge ratio for elec -\n",
      "trons, we can deduce the mass of an electron:\n",
      "charge*mass\n",
      "charge=mass\n",
      "-1.60*10-19 C*g\n",
      "-1.76*108 C=9.10*10-28 g\n",
      "As Thomson had correctly determined, this mass is about 2000 times less than hydro -\n",
      "gen, the lightest atom.\n",
      "Why did scientists work so hard to measure the charge of the electron? Since the \n",
      "electron is a fundamental building block of matter, scientists want to know its proper -\n",
      "ties, including its charge. The magnitude of the charge of the electron is of tremendous \n",
      "importance because it determines how strongly an atom holds its electrons. On one \n",
      "hand, imagine ho\n"
     ]
    }
   ],
   "source": [
    "from lib.textbook_manager import TextbookManager\n",
    "\n",
    "# Initialize manager\n",
    "textbook_manager = TextbookManager()\n",
    "\n",
    "# Print all available textbooks\n",
    "\n",
    "\n",
    "# Get a specific textbook and page\n",
    "textbook_name = \"Chemistry A Molecular Approach (5th Edition) by Nivaldo J. Tro (z-lib.org)\"  # without .txt extension\n",
    "passage = textbook_manager.get_page(textbook_name, page_number=100)\n",
    "\n",
    "if passage:\n",
    "    print(f\"\\nPage {passage.page_number} content:\")\n",
    "    print(passage.content)\n",
    "else:\n",
    "    print(f\"Could not find textbook or page\")\n"
   ]
  },
  {
   "cell_type": "code",
   "execution_count": null,
   "metadata": {},
   "outputs": [
    {
     "name": "stdout",
     "output_type": "stream",
     "text": [
      "Generating questions with verification...\n"
     ]
    }
   ],
   "source": [
    "from lib.question_generator import QuestionGenerator\n",
    "from lib.question_generator.models import QuestionDifficulty\n",
    "\n",
    "# Create question generator\n",
    "generator = QuestionGenerator()\n",
    "\n",
    "# Generate questions with verification\n",
    "print(\"Generating questions with verification...\")\n",
    "verified_questions = await generator.generate_questions(\n",
    "    passage.content,\n",
    "    num_questions=3,\n",
    "    difficulty=QuestionDifficulty.GRAD,  # or any other difficulty level\n",
    "    verify=False\n",
    ")\n",
    "\n",
    "print(f\"\\nGenerated {len(verified_questions)} verified questions:\")\n",
    "for i, qa in enumerate(verified_questions, 1):\n",
    "    print(f\"\\n Source: {qa.source}\")\n",
    "    print(f\"\\nQuestion {i}:\")\n",
    "    print(qa.question)\n",
    "    print(\"\\nSolution:\")\n",
    "    print(qa.solution)\n",
    "    \n",
    "    print(\"-\" * 80)\n",
    "\n"
   ]
  },
  {
   "cell_type": "code",
   "execution_count": 12,
   "metadata": {},
   "outputs": [
    {
     "name": "stdout",
     "output_type": "stream",
     "text": [
      "Millikan calculated the charge on oil droplets falling in an electric field. He found that it was always a whole-number multiple of -1.60*10-19 C, the charge of a single electron.\n",
      "What was the charge of the oil droplets measured by Millikan, and how did he determine that it was a whole-number multiple?\n",
      "Millikan measured the charge on oil droplets falling in an electric field and found that it was always a whole-number multiple of -1.60 x 10^-19 C, which is the charge of a single electron. He determined this by measuring the strength of the electric field required to halt the free fall of the negatively charged droplets and calculating the charge based on the mass of the droplets, which he derived from their radii and density.\n",
      "['Start by reviewing the concept of electric charge and how it can be quantified. Consider what it means for a charge to be a whole-number multiple and how this relates to the fundamental charge of an electron.', 'Think about the experimental setup Millikan used with the oil droplets. Focus on the forces acting on the droplets and the equations that describe the balance between gravitational force and electric force.', 'Once you understand the forces involved, consider how Millikan was able to measure the charge on individual droplets and what calculations he performed to show that these charges were consistent with being multiples of a fundamental charge value.']\n",
      "--------------------------------------------------------------------------------\n",
      "By measuring the strengths at which the effects of the two fields (electric and magnetic) cancel exactly, leaving the beam undeflected, he was able to calculate the charge-to-mass ratio of the electron.\n",
      "How did J.J. Thomson measure the charge-to-mass ratio of the electron using electric and magnetic fields?\n",
      "J.J. Thomson measured the charge-to-mass ratio of the electron by using electric and magnetic fields to deflect an electron beam in a cathode ray tube. He adjusted the strengths of the electric and magnetic fields until their effects canceled each other out, resulting in an undeflected beam. By knowing the strengths of the fields at this point of cancellation, he was able to calculate the charge-to-mass ratio of the electron.\n",
      "[\"Start by understanding the setup of Thomson's experiment. Consider how he used both electric and magnetic fields to influence the path of the electrons. What role do these fields play in determining the motion of charged particles?\", 'Think about the equations that relate the force exerted by electric and magnetic fields on a charged particle. Specifically, focus on the Lorentz force equation and how it can be used to express the balance of forces acting on the electron.', \"Once you have a grasp of the forces involved, consider how Thomson might have measured the radius of the electron's path in the magnetic field. This measurement will be crucial for calculating the charge-to-mass ratio. What relationships can you derive from the circular motion of the electrons?\"]\n",
      "--------------------------------------------------------------------------------\n",
      "This mass is about 2000 times less than hydrogen, the lightest atom.\n",
      "What is the significance of the mass of the electron in relation to hydrogen, and how does it compare?\n",
      "The mass of the electron, calculated to be approximately 9.10 x 10^-28 g, is significant because it is about 2000 times less than the mass of hydrogen, which is the lightest atom. This comparison highlights the fundamental nature of the electron as a building block of matter, emphasizing its relatively small mass in contrast to atomic structures.\n",
      "[\"Start by considering the basic structure of a hydrogen atom. What are the components of an atom, and how does the mass of the electron relate to the mass of the proton in the nucleus? This will help you understand the significance of the electron's mass in the context of hydrogen.\", \"Think about the concept of mass ratios. How does the mass of the electron compare to the mass of the proton? You might want to look up the actual mass values and calculate the ratio to see how small the electron's mass is in comparison.\", \"Consider the implications of the electron's mass on the behavior of the hydrogen atom, such as its energy levels and stability. How does the mass influence the electron's movement and the overall properties of hydrogen?\"]\n",
      "--------------------------------------------------------------------------------\n",
      "3\n"
     ]
    }
   ],
   "source": [
    "for question in verified_questions:\n",
    "    print(question.source)\n",
    "    print(question.question)\n",
    "    print(question.solution)\n",
    "    print(question.hints)\n",
    "    \n",
    "    print(\"-\" * 80)\n",
    "print(len(verified_questions))"
   ]
  }
 ],
 "metadata": {
  "kernelspec": {
   "display_name": "Python 3",
   "language": "python",
   "name": "python3"
  },
  "language_info": {
   "codemirror_mode": {
    "name": "ipython",
    "version": 3
   },
   "file_extension": ".py",
   "mimetype": "text/x-python",
   "name": "python",
   "nbconvert_exporter": "python",
   "pygments_lexer": "ipython3",
   "version": "3.9.6"
  }
 },
 "nbformat": 4,
 "nbformat_minor": 2
}
