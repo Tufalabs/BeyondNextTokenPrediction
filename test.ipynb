{
 "cells": [
  {
   "cell_type": "code",
   "execution_count": 59,
   "metadata": {},
   "outputs": [],
   "source": [
    "\n",
    "\n",
    "from src.tobyawesomeailibrary.inference import generate_text"
   ]
  },
  {
   "cell_type": "code",
   "execution_count": 48,
   "metadata": {},
   "outputs": [],
   "source": [
    "def format_prompt(text_book_snippet: str, num_questions: int) -> str:\n",
    "\n",
    "    prompt = f\"\"\"\n",
    "    You are going to be given a text book snippet.\n",
    "    Your job is to generate sample questions and solutions to these questions.\n",
    "    Don't make up new numerical questions, use the ones in the text book snippet.\n",
    "    Here is the text book snippet:\n",
    "    {text_book_snippet}\n",
    "\n",
    "    You should follow the following format:\n",
    "    <question>QUESTION TEXT</question>\n",
    "    <solution>SOLUTION TEXT</solution>\n",
    "    <question>QUESTION TEXT</question>\n",
    "    <solution>SOLUTION TEXT</solution>\n",
    "    <question>QUESTION TEXT</question>\n",
    "    <solution>SOLUTION TEXT</solution>\n",
    "    \n",
    "    You should generate {num_questions} questions and solutions.\n",
    "\n",
    "    You questions should be hard, use examples from the text book snippet and sample calculations.\n",
    "\n",
    "    Things like derive this relation, solve this problem and theory questions are best.\n",
    "    \"\"\"\n",
    "    return prompt\n"
   ]
  },
  {
   "cell_type": "code",
   "execution_count": 60,
   "metadata": {},
   "outputs": [],
   "source": [
    "from textbook_src.james_7th_11_1 import text as textbook_text\n"
   ]
  },
  {
   "cell_type": "code",
   "execution_count": 61,
   "metadata": {},
   "outputs": [
    {
     "data": {
      "text/plain": [
       "\"<question>What is the form of the potential energy \\\\( U(r_1, r_2) \\\\) for two bodies interacting through a conservative central force, and how does it relate to the relative position \\\\( r \\\\) of the two bodies?</question>\\n<solution>The potential energy \\\\( U(r_1, r_2) \\\\) for two bodies interacting through a conservative central force can be expressed as a function of the distance between them, specifically as \\\\( U(r_1, r_2) = U(|r_1 - r_2|) \\\\). This means that the potential energy depends only on the magnitude of the relative position \\\\( r = r_1 - r_2 \\\\), and can be simplified to \\\\( U = U(r) \\\\). This is due to the translational invariance of the system, which implies that the potential energy does not depend on the absolute positions \\\\( r_1 \\\\) and \\\\( r_2 \\\\) but only on their separation.</solution>\\n\\n<question>Using the gravitational potential energy formula \\\\( U(r_1, r_2) = -\\\\frac{G m_1 m_2}{|r_1 - r_2|} \\\\), derive the expression for the force \\\\( F_{12} \\\\) exerted by mass \\\\( m_1 \\\\) on mass \\\\( m_2 \\\\).</question>\\n<solution>To derive the force \\\\( F_{12} \\\\) from the potential energy \\\\( U(r_1, r_2) \\\\), we use the relation \\\\( F_{12} = -\\\\nabla U \\\\). In one dimension, this simplifies to \\\\( F_{12} = -\\\\frac{dU}{dr} \\\\). \\n\\nStarting with the gravitational potential energy:\\n\\\\[\\nU(r_1, r_2) = -\\\\frac{G m_1 m_2}{|r_1 - r_2|},\\n\\\\]\\nwe differentiate with respect to \\\\( r \\\\):\\n\\\\[\\nF_{12} = -\\\\frac{d}{dr}\\\\left(-\\\\frac{G m_1 m_2}{r}\\\\right) = -\\\\left(\\\\frac{G m_1 m_2}{r^2}\\\\right).\\n\\\\]\\nThus, the force exerted by mass \\\\( m_1 \\\\) on mass \\\\( m_2 \\\\) is:\\n\\\\[\\nF_{12} = \\\\frac{G m_1 m_2}{r^2}.\\n\\\\]\\nThis is the gravitational force acting between the two masses.</solution>\\n\\n<question>Explain the significance of the reduced mass in the context of two-body problems and derive the expression for the reduced mass \\\\( \\\\mu \\\\) in terms of the masses \\\\( m_1 \\\\) and \\\\( m_2 \\\\).</question>\\n<solution>The reduced mass \\\\( \\\\mu \\\\) is a useful concept in two-body problems as it simplifies the analysis of the motion of two interacting bodies. It allows us to treat the two-body problem as an equivalent one-body problem with a single particle of mass \\\\( \\\\mu \\\\) moving in the potential created by the other body.\\n\\nThe expression for the reduced mass \\\\( \\\\mu \\\\) is given by:\\n\\\\[\\n\\\\mu = \\\\frac{m_1 m_2}{m_1 + m_2}.\\n\\\\]\\nThis formula arises from the need to account for the inertia of both bodies in the system. By substituting \\\\( \\\\mu \\\\) into the equations of motion, we can analyze the dynamics of the system more easily.</solution>\\n\\n<question>Given the potential energy of a hydrogen atom \\\\( U(r_1, r_2) = -\\\\frac{ke^2}{|r_1 - r_2|} \\\\), calculate the force acting on the electron due to the proton.</question>\\n<solution>To find the force acting on the electron due to the proton, we use the relation \\\\( F = -\\\\nabla U \\\\). For the potential energy given by:\\n\\\\[\\nU(r_1, r_2) = -\\\\frac{ke^2}{|r_1 - r_2|},\\n\\\\]\\nwe differentiate with respect to \\\\( r \\\\):\\n\\\\[\\nF = -\\\\frac{dU}{dr} = -\\\\frac{d}{dr}\\\\left(-\\\\frac{ke^2}{r}\\\\right) = \\\\frac{ke^2}{r^2}.\\n\\\\]\\nThus, the force acting on the electron due to the proton is:\\n\\\\[\\nF = \\\\frac{ke^2}{r^2}.\\n\\\\]\\nThis is the Coulomb force acting between the two charges.</solution>\\n\\n<question>Discuss the implications of translational invariance in the context of the two-body problem and how it leads to the dependence of potential energy on the relative position.</question>\\n<solution>Translational invariance implies that the laws of physics remain unchanged regardless of the position of the system in space. In the context of the two-body problem, this means that the potential energy \\\\( U(r_1, r_2) \\\\) cannot depend on the absolute positions \\\\( r_1 \\\\) and \\\\( r_2 \\\\) of the two bodies, but only on their separation \\\\( r = |r_1 - r_2| \\\\). \\n\\nThis leads to the conclusion that the potential energy can be expressed as \\\\( U(r) \\\\), which simplifies the analysis of the system. The forces acting between the bodies are derived from this potential energy, and since it depends only on the relative position, the dynamics can be analyzed using a single variable, making the problem more tractable.</solution>\\n\\n<question>Using the Lagrangian \\\\( L = \\\\frac{1}{2} m_1 \\\\dot{r_1}^2 + \\\\frac{1}{2} m_2 \\\\dot{r_2}^2 - U(r) \\\\), derive the equations of motion for the two-body system.</question>\\n<solution>To derive the equations of motion from the Lagrangian \\\\( L = \\\\frac{1}{2} m_1 \\\\dot{r_1}^2 + \\\\frac{1}{2} m_2 \\\\dot{r_2}^2 - U(r) \\\\), we apply the Euler-Lagrange equation:\\n\\\\[\\n\\\\frac{d}{dt}\\\\left(\\\\frac{\\\\partial L}{\\\\partial \\\\dot{q}}\\\\right) - \\\\frac{\\\\partial L}{\\\\partial q} = 0,\\n\\\\]\\nwhere \\\\( q \\\\) represents the generalized coordinates \\\\( r_1 \\\\) and \\\\( r_2 \\\\).\\n\\nFor \\\\( r_1 \\\\):\\n\\\\[\\n\\\\frac{\\\\partial L}{\\\\partial r_1} = -\\\\frac{\\\\partial U}{\\\\partial r_1},\\n\\\\]\\n\\\\[\\n\\\\frac{\\\\partial L}{\\\\partial \\\\dot{r_1}} = m_1 \\\\dot{r_1}.\\n\\\\]\\nThus,\\n\\\\[\\n\\\\frac{d}{dt}(m_1 \\\\dot{r_1}) = -\\\\frac{\\\\partial U}{\\\\partial r_1}.\\n\\\\]\\n\\nFor \\\\( r_2 \\\\):\\n\\\\[\\n\\\\frac{\\\\partial L}{\\\\partial r_2} = -\\\\frac{\\\\partial U}{\\\\partial r_2},\\n\\\\]\\n\\\\[\\n\\\\frac{\\\\partial L}{\\\\partial \\\\dot{r_2}} = m_2 \\\\dot{r_2}.\\n\\\\]\\nThus,\\n\\\\[\\n\\\\frac{d}{dt}(m_2 \\\\dot{r_2}) = -\\\\frac{\\\\partial U}{\\\\partial r_2}.\\n\\\\]\\n\\nThese equations represent the equations of motion for the two-body system, showing how the forces derived from the potential energy influence the motion of each body.</solution>\\n\\n<question>What is the significance of the central force in the context of the two-body problem, and how does it affect the motion of the bodies involved?</question>\\n<solution>The significance of a central force in the two-body problem lies in its dependence solely on the distance between the two bodies and its direction being along the line connecting them. This characteristic leads to several important implications for the motion of the bodies:\\n\\n1. **Conservation of Angular Momentum**: Since the force is central, it does not exert a torque about the center of mass of the system, leading to the conservation of angular momentum. This means that the motion of the bodies can be analyzed in a plane, simplifying the problem.\\n\\n2. **Closed Orbits**: In the case of gravitational or electrostatic forces, the central force leads to predictable, closed orbits (e.g., elliptical orbits in the case of planets and stars), which can be described by Kepler's laws.\\n\\n3. **Reduced Mass**: The concept of reduced mass allows us to treat the two-body problem as a one-body problem, making it easier to analyze the dynamics of the system.\\n\\nOverall, the central force simplifies the analysis of the motion and allows for the derivation of important physical laws governing the behavior of the system.</solution>\\n\\n<question>Given the potential energy of a diatomic molecule as \\\\( U(r) = -\\\\frac{D}{r^n} \\\\), where \\\\( D \\\\) and \\\\( n \\\\) are constants, derive the expression for the force acting between the two atoms.</question>\\n<solution>To derive the force acting between the two atoms from the potential energy \\\\( U(r) = -\\\\frac{D}{r^n} \\\\), we use the relation \\\\( F = -\\\\nabla U \\\\). In one dimension, this simplifies to:\\n\\\\[\\nF = -\\\\frac{dU}{dr}.\\n\\\\]\\n\\nDifferentiating the potential energy with respect to \\\\( r \\\\):\\n\\\\[\\nF = -\\\\frac{d}{dr}\\\\left(-\\\\frac{D}{r^n}\\\\right) = \\\\frac{D n}{r^{n+1}}.\\n\\\\]\\n\\nThus, the force acting between the two atoms is given by:\\n\\\\[\\nF = \\\\frac{D n}{r^{n+1}}.\\n\\\\]\\nThis expression indicates that the force varies with the distance \\\\( r \\\\) raised to the power of \\\\( -(n+1) \\\\), reflecting the nature of the interaction between the atoms in the diatomic molecule.</solution>\\n\\n<question>How does the concept of relative position \\\\( r = r_1 - r_2 \\\\) simplify the analysis of the two-body problem, and what are the implications for the equations of motion?</question>\\n<solution>The concept of relative position \\\\( r = r_1 - r_2 \\\\) simplifies the analysis of the two-body problem by reducing the number of variables involved. Instead of dealing with the individual motions of both bodies, we can focus on their relative motion, which is governed by the potential energy that depends only on the magnitude of \\\\( r \\\\).\\n\\nThe implications for the equations of motion are significant:\\n1. **Single Variable Dynamics**: The motion of the system can be described using a single variable \\\\( r \\\\), which represents the distance between the two bodies. This reduces the complexity of the problem.\\n\\n2. **Simplified Lagrangian**: The Lagrangian can be expressed in terms of the relative position and the reduced mass, allowing us to derive the equations of motion more easily.\\n\\n3. **Conservation Laws**: The relative position leads to conservation laws (e.g., conservation of momentum and angular momentum) that apply to the system as a whole, making it easier to analyze the dynamics.\\n\\nOverall, the use of relative position streamlines the analysis and allows for a clearer understanding of the interactions and motions of the two bodies involved in the system.</solution>\""
      ]
     },
     "execution_count": 61,
     "metadata": {},
     "output_type": "execute_result"
    }
   ],
   "source": [
    "prompt = format_prompt(textbook_text, 10)\n",
    "\n",
    "text = await generate_text(model=\"gpt-4o-mini\", prompt=prompt)\n",
    "text"
   ]
  },
  {
   "cell_type": "code",
   "execution_count": 51,
   "metadata": {},
   "outputs": [
    {
     "name": "stdout",
     "output_type": "stream",
     "text": [
      "\n",
      "Question 1:\n",
      "What is the general term of the sequence defined by the terms 3/5, 4/25, 5/125, 6/625, ...?\n",
      "\n",
      "Solution 1:\n",
      "The numerators of the fractions start with 3 and increase by 1 for each subsequent term. Thus, the nth term will have a numerator of \\(n + 2\\). The denominators are powers of 5, specifically \\(5^n\\). Therefore, the general term can be expressed as \\(a_n = \\frac{n + 2}{5^n}\\).\n",
      "--------------------------------------------------------------------------------\n",
      "\n",
      "Question 2:\n",
      "Determine whether the sequence defined by \\(a_n = \\frac{1}{n}\\) converges or diverges as \\(n\\) approaches infinity.\n",
      "\n",
      "Solution 2:\n",
      "As \\(n\\) approaches infinity, \\(a_n = \\frac{1}{n}\\) approaches 0. Therefore, the sequence converges to 0.\n",
      "--------------------------------------------------------------------------------\n",
      "\n",
      "Question 3:\n",
      "Using the Squeeze Theorem, show that the sequence \\(b_n = \\frac{n}{n+1}\\) converges as \\(n\\) approaches infinity.\n",
      "\n",
      "Solution 3:\n",
      "We can observe that \\(0 < b_n < 1\\) for all \\(n\\). As \\(n\\) approaches infinity, both the lower bound (0) and the upper bound (1) remain constant. Thus, by the Squeeze Theorem, since \\(b_n\\) is squeezed between two converging sequences, it converges to 1.\n",
      "--------------------------------------------------------------------------------\n",
      "\n",
      "Question 4:\n",
      "Evaluate the limit of the sequence defined by \\(c_n = \\frac{n^2}{n^2 + 1}\\) as \\(n\\) approaches infinity.\n",
      "\n",
      "Solution 4:\n",
      "To evaluate the limit, we divide the numerator and denominator by \\(n^2\\): \n",
      "\\[\n",
      "c_n = \\frac{1}{1 + \\frac{1}{n^2}}.\n",
      "\\]\n",
      "As \\(n\\) approaches infinity, \\(\\frac{1}{n^2}\\) approaches 0. Therefore, the limit is \\(c_n \\to 1\\) as \\(n \\to \\infty\\).\n",
      "--------------------------------------------------------------------------------\n",
      "\n",
      "Question 5:\n",
      "Prove that the Fibonacci sequence defined by \\(f_n = f_{n-1} + f_{n-2}\\) with initial conditions \\(f_1 = 1\\) and \\(f_2 = 1\\) is increasing.\n",
      "\n",
      "Solution 5:\n",
      "To prove that the Fibonacci sequence is increasing, we can use mathematical induction. The base case is \\(f_2 = 1\\) and \\(f_3 = 2\\), which shows \\(f_3 > f_2\\). Assume \\(f_k > f_{k-1}\\) for \\(k \\geq 3\\). Then:\n",
      "\\[\n",
      "f_{k+1} = f_k + f_{k-1} > f_{k-1} + f_{k-1} = 2f_{k-1} > f_{k-1}.\n",
      "\\]\n",
      "Thus, by induction, \\(f_n\\) is increasing for all \\(n\\).\n",
      "--------------------------------------------------------------------------------\n",
      "\n",
      "Question 6:\n",
      "Find the limit of the sequence defined by \\(d_n = \\frac{n}{2^n}\\) as \\(n\\) approaches infinity.\n",
      "\n",
      "Solution 6:\n",
      "As \\(n\\) approaches infinity, the denominator \\(2^n\\) grows much faster than the numerator \\(n\\). Therefore, we can apply L'Hôpital's Rule:\n",
      "\\[\n",
      "\\lim_{n \\to \\infty} d_n = \\lim_{n \\to \\infty} \\frac{n}{2^n} = \\lim_{n \\to \\infty} \\frac{1}{2^n \\ln(2)} = 0.\n",
      "\\]\n",
      "Thus, the limit is 0.\n",
      "--------------------------------------------------------------------------------\n",
      "\n",
      "Question 7:\n",
      "Discuss the convergence of the sequence defined by \\(e_n = (-1)^n \\frac{1}{n}\\) as \\(n\\) approaches infinity.\n",
      "\n",
      "Solution 7:\n",
      "The sequence \\(e_n\\) oscillates between positive and negative values, but the absolute value \\(|e_n| = \\frac{1}{n}\\) converges to 0 as \\(n\\) approaches infinity. Therefore, the sequence \\(e_n\\) converges to 0, despite oscillating in sign.\n",
      "--------------------------------------------------------------------------------\n",
      "\n",
      "Question 8:\n",
      "Show that the sequence defined by \\(f_n = \\frac{3n + 1}{2n + 1}\\) converges and find its limit.\n",
      "\n",
      "Solution 8:\n",
      "To find the limit, we divide the numerator and denominator by \\(n\\):\n",
      "\\[\n",
      "f_n = \\frac{3 + \\frac{1}{n}}{2 + \\frac{1}{n}}.\n",
      "\\]\n",
      "As \\(n\\) approaches infinity, \\(\\frac{1}{n}\\) approaches 0. Therefore, the limit is:\n",
      "\\[\n",
      "\\lim_{n \\to \\infty} f_n = \\frac{3 + 0}{2 + 0} = \\frac{3}{2}.\n",
      "\\]\n",
      "--------------------------------------------------------------------------------\n",
      "\n",
      "Question 9:\n",
      "Determine if the sequence defined by \\(g_n = n \\sin\\left(\\frac{1}{n}\\right)\\) converges or diverges as \\(n\\) approaches infinity.\n",
      "\n",
      "Solution 9:\n",
      "As \\(n\\) approaches infinity, \\(\\frac{1}{n}\\) approaches 0. Thus, we can use the limit:\n",
      "\\[\n",
      "g_n = n \\sin\\left(\\frac{1}{n}\\right) \\approx n \\cdot \\frac{1}{n} = 1.\n",
      "\\]\n",
      "Therefore, the limit of \\(g_n\\) as \\(n\\) approaches infinity is 1, and the sequence converges.\n",
      "--------------------------------------------------------------------------------\n",
      "\n",
      "Question 10:\n",
      "Using the definition of convergence, prove that the sequence \\(h_n = \\frac{1}{n^2}\\) converges to 0.\n",
      "\n",
      "Solution 10:\n",
      "To prove that \\(h_n\\) converges to 0, we need to show that for every \\(\\epsilon > 0\\), there exists an integer \\(N\\) such that for all \\(n > N\\), \\(|h_n - 0| < \\epsilon\\). We have:\n",
      "\\[\n",
      "|h_n| = \\frac{1}{n^2} < \\epsilon \\implies n^2 > \\frac{1}{\\epsilon} \\implies n > \\frac{1}{\\sqrt{\\epsilon}}.\n",
      "\\]\n",
      "Thus, we can choose \\(N = \\lceil \\frac{1}{\\sqrt{\\epsilon}} \\rceil\\). Therefore, \\(h_n\\) converges to 0.\n",
      "--------------------------------------------------------------------------------\n"
     ]
    }
   ],
   "source": [
    "def extract_qa_pairs(text: str) -> list[tuple[str, str]]:\n",
    "    \"\"\"\n",
    "    Extract question-answer pairs from text that contains XML-like tags.\n",
    "    Returns a list of tuples, where each tuple contains (question, solution).\n",
    "    \"\"\"\n",
    "    import re\n",
    "    \n",
    "    # Pattern to match question and solution pairs\n",
    "    pattern = r'<question>(.*?)</question>\\s*<solution>(.*?)</solution>'\n",
    "    \n",
    "    # Find all matches in the text\n",
    "    matches = re.findall(pattern, text, re.DOTALL)\n",
    "    \n",
    "    # Clean up whitespace in the results\n",
    "    qa_pairs = [(q.strip(), s.strip()) for q, s in matches]\n",
    "    \n",
    "    return qa_pairs\n",
    "\n",
    "# Example usage:\n",
    "qa_pairs = extract_qa_pairs(text)\n",
    "\n",
    "# Print the results nicely formatted\n",
    "for i, (question, solution) in enumerate(qa_pairs, 1):\n",
    "    print(f\"\\nQuestion {i}:\")\n",
    "    print(question)\n",
    "    print(f\"\\nSolution {i}:\")\n",
    "    print(solution)\n",
    "    print(\"-\" * 80)"
   ]
  },
  {
   "cell_type": "code",
   "execution_count": 26,
   "metadata": {},
   "outputs": [
    {
     "data": {
      "text/plain": [
       "'Using the formula for gravitational potential energy:  \\n\\\\[\\nU(r) = -\\\\frac{G m_1 m_2}{r}\\n\\\\]\\nwhere \\\\( G \\\\approx 6.674 \\\\times 10^{-11} \\\\, \\\\text{m}^3/\\\\text{kg} \\\\cdot \\\\text{s}^2 \\\\), we can substitute the values:  \\n\\\\[\\nU = -\\\\frac{(6.674 \\\\times 10^{-11}) (5.97 \\\\times 10^{24}) (7.35 \\\\times 10^{22})}{3.84 \\\\times 10^8}\\n\\\\]\\nCalculating this gives:  \\n\\\\[\\nU \\\\approx -\\\\frac{(6.674 \\\\times 10^{-11}) (4.385 \\\\times 10^{47})}{3.84 \\\\times 10^8} \\\\approx -7.36 \\\\times 10^{22} \\\\, \\\\text{J}\\n\\\\]\\nThus, the gravitational potential energy between the Earth and the Moon is approximately \\\\( -7.36 \\\\times 10^{22} \\\\, \\\\text{J} \\\\).'"
      ]
     },
     "execution_count": 26,
     "metadata": {},
     "output_type": "execute_result"
    }
   ],
   "source": [
    "question = qa_pairs[2][0]\n",
    "solution = qa_pairs[2][1]\n"
   ]
  },
  {
   "cell_type": "code",
   "execution_count": null,
   "metadata": {},
   "outputs": [],
   "source": [
    "def format_hint_prompt(question: str, solution: str) -> str:\n",
    "    prompt = f\"\"\"\n",
    "    You are a helpful teaching assistant. A student is struggling with this physics question.\n",
    "    Generate 2-3 helpful hints that will guide them toward the solution without giving it away.\n",
    "    The hints should:\n",
    "    1. Break down the problem-solving approach into steps\n",
    "    2. Point out key concepts or equations to consider\n",
    "    3. Suggest what to focus on first\n",
    "    \n",
    "    Question:\n",
    "    {question}\n",
    "\n",
    "    Format your response as:\n",
    "    <hints>\n",
    "    1. [First hint]\n",
    "    2. [Second hint]\n",
    "    3. [Optional third hint if needed]\n",
    "    </hints>\n",
    "    \"\"\"\n",
    "    return prompt\n",
    "\n",
    "# Example usage:\n",
    "hint_prompt = format_hint_prompt(question, solution)\n",
    "hints = await generate_text(model=\"gpt-4o-mini\", prompt=hint_prompt)\n"
   ]
  },
  {
   "cell_type": "code",
   "execution_count": 30,
   "metadata": {},
   "outputs": [
    {
     "name": "stdout",
     "output_type": "stream",
     "text": [
      "<hints>\n",
      "1. Start by recalling the formula for gravitational potential energy (U) between two masses. It is given by the equation \\( U = -\\frac{G \\cdot m_1 \\cdot m_2}{r} \\), where \\( G \\) is the gravitational constant, \\( m_1 \\) and \\( m_2 \\) are the masses of the two objects, and \\( r \\) is the distance between their centers.\n",
      "\n",
      "2. Make sure you know the value of the gravitational constant \\( G \\). It is approximately \\( 6.674 \\times 10^{-11} \\, \\text{N m}^2/\\text{kg}^2 \\). Substitute the values for the masses of the Earth and the Moon, as well as the distance between them, into the formula.\n",
      "\n",
      "3. Pay attention to the sign of the gravitational potential energy. The formula gives a negative value, which indicates that the gravitational force is attractive. Think about what this means in the context of the energy being calculated.\n",
      "</hints>\n"
     ]
    }
   ],
   "source": [
    "print(hints)"
   ]
  },
  {
   "cell_type": "code",
   "execution_count": 40,
   "metadata": {},
   "outputs": [],
   "source": [
    "from src.tobyawesomeailibrary.eval_response import evaluate_text\n",
    "\n",
    "\n",
    "\n",
    "attempted_solution = await generate_text(model=\"gpt-4o\", prompt=question + hints)\n",
    "\n"
   ]
  },
  {
   "cell_type": "code",
   "execution_count": 41,
   "metadata": {},
   "outputs": [
    {
     "name": "stdout",
     "output_type": "stream",
     "text": [
      "To calculate the gravitational potential energy between the Earth and the Moon, we use the formula for gravitational potential energy:\n",
      "\n",
      "\\[\n",
      "U = -\\frac{G \\cdot m_1 \\cdot m_2}{r}\n",
      "\\]\n",
      "\n",
      "where:\n",
      "- \\( G \\) is the gravitational constant, approximately \\( 6.674 \\times 10^{-11} \\, \\text{N m}^2/\\text{kg}^2 \\),\n",
      "- \\( m_1 \\) is the mass of the Earth, approximately \\( 5.97 \\times 10^{24} \\) kg,\n",
      "- \\( m_2 \\) is the mass of the Moon, approximately \\( 7.35 \\times 10^{22} \\) kg,\n",
      "- \\( r \\) is the average distance between the Earth and the Moon, approximately \\( 3.84 \\times 10^8 \\) m.\n",
      "\n",
      "Substituting these values into the formula, we get:\n",
      "\n",
      "\\[\n",
      "U = -\\frac{(6.674 \\times 10^{-11} \\, \\text{N m}^2/\\text{kg}^2) \\cdot (5.97 \\times 10^{24} \\, \\text{kg}) \\cdot (7.35 \\times 10^{22} \\, \\text{kg})}{3.84 \\times 10^8 \\, \\text{m}}\n",
      "\\]\n",
      "\n",
      "Calculating the numerator:\n",
      "\n",
      "\\[\n",
      "6.674 \\times 10^{-11} \\times 5.97 \\times 10^{24} \\times 7.35 \\times 10^{22} = 2.928 \\times 10^{37}\n",
      "\\]\n",
      "\n",
      "Now, divide by the distance:\n",
      "\n",
      "\\[\n",
      "U = -\\frac{2.928 \\times 10^{37}}{3.84 \\times 10^8} = -7.625 \\times 10^{28} \\, \\text{J}\n",
      "\\]\n",
      "\n",
      "Thus, the gravitational potential energy between the Earth and the Moon is approximately \\(-7.625 \\times 10^{28}\\) joules. The negative sign indicates that the gravitational force is attractive.\n"
     ]
    }
   ],
   "source": [
    "print(attempted_solution)"
   ]
  },
  {
   "cell_type": "code",
   "execution_count": 42,
   "metadata": {},
   "outputs": [
    {
     "name": "stdout",
     "output_type": "stream",
     "text": [
      "Calculate the gravitational potential energy between the Earth and the Moon, given that the mass of the Earth is approximately \\( 5.97 \\times 10^{24} \\) kg, the mass of the Moon is approximately \\( 7.35 \\times 10^{22} \\) kg, and the average distance between them is \\( 3.84 \\times 10^8 \\) m.\n"
     ]
    }
   ],
   "source": [
    "print(question)"
   ]
  },
  {
   "cell_type": "code",
   "execution_count": 39,
   "metadata": {},
   "outputs": [
    {
     "name": "stdout",
     "output_type": "stream",
     "text": [
      "Using the formula for gravitational potential energy:  \n",
      "\\[\n",
      "U(r) = -\\frac{G m_1 m_2}{r}\n",
      "\\]\n",
      "where \\( G \\approx 6.674 \\times 10^{-11} \\, \\text{m}^3/\\text{kg} \\cdot \\text{s}^2 \\), we can substitute the values:  \n",
      "\\[\n",
      "U = -\\frac{(6.674 \\times 10^{-11}) (5.97 \\times 10^{24}) (7.35 \\times 10^{22})}{3.84 \\times 10^8}\n",
      "\\]\n",
      "Calculating this gives:  \n",
      "\\[\n",
      "U \\approx -\\frac{(6.674 \\times 10^{-11}) (4.385 \\times 10^{47})}{3.84 \\times 10^8} \\approx -7.36 \\times 10^{22} \\, \\text{J}\n",
      "\\]\n",
      "Thus, the gravitational potential energy between the Earth and the Moon is approximately \\( -7.36 \\times 10^{22} \\, \\text{J} \\).\n"
     ]
    }
   ],
   "source": [
    "print(solution)"
   ]
  },
  {
   "cell_type": "code",
   "execution_count": 38,
   "metadata": {},
   "outputs": [
    {
     "name": "stdout",
     "output_type": "stream",
     "text": [
      "Model Answer length: 1846\n",
      "Ground Truth Answer length: 596\n"
     ]
    },
    {
     "data": {
      "text/plain": [
       "0"
      ]
     },
     "execution_count": 38,
     "metadata": {},
     "output_type": "execute_result"
    }
   ],
   "source": [
    "eval = await evaluate_text(\"gpt-4o-mini\", attempted_solution, solution)\n",
    "eval[0]"
   ]
  },
  {
   "cell_type": "code",
   "execution_count": 70,
   "metadata": {},
   "outputs": [],
   "source": [
    "question = \"\"\" Compute the number of solutions 𝑥 ∈ [0, 2𝜋] to\n",
    "cos(𝑥\n",
    "2\n",
    ") + sin(𝑥\n",
    "2\n",
    ") = 0.\"\"\""
   ]
  },
  {
   "cell_type": "code",
   "execution_count": 77,
   "metadata": {},
   "outputs": [],
   "source": [
    "def format_easier_variant_prompt(question: str) -> str:\n",
    "    prompt = f\"\"\"\n",
    "    You are an expert physics teacher. Given a challenging physics question, create 2 easier variants \n",
    "    of the same problem that help build understanding toward the original question.\n",
    "    The variants should:\n",
    "    1. Focus on simpler aspects of the same concept\n",
    "    2. Use round numbers or simpler scenarios\n",
    "    3. Break down complex calculations into smaller steps\n",
    "    \n",
    "    Original Question:\n",
    "    {question}\n",
    "\n",
    "    Format your response as:\n",
    "    <variant>\n",
    "    [First easier version of the question]\n",
    "    </variant>\n",
    "    <variant>\n",
    "    [Second easier version of the question]\n",
    "    </variant>\n",
    "    \"\"\"\n",
    "    return prompt\n",
    "\n",
    "def extract_variants(text: str) -> list[str]:\n",
    "    \"\"\"\n",
    "    Extract variant questions from text that contains XML-like tags.\n",
    "    Returns a list of variant questions.\n",
    "    \"\"\"\n",
    "    import re\n",
    "    \n",
    "    # Pattern to match variants\n",
    "    pattern = r'<variant\\>(.*?)</variant\\>'\n",
    "    \n",
    "    # Find all matches in the text\n",
    "    matches = re.findall(pattern, text, re.DOTALL)\n",
    "    \n",
    "    # Clean up whitespace in the results\n",
    "    variants = [v.strip() for v in matches]\n",
    "    \n",
    "    return variants\n",
    "\n",
    "# Example usage:\n",
    "variant_prompt = format_easier_variant_prompt(question)\n",
    "variants_text = await generate_text(model=\"gpt-4o-mini\", prompt=variant_prompt)\n",
    "variants = extract_variants(variants_text)"
   ]
  },
  {
   "cell_type": "code",
   "execution_count": 78,
   "metadata": {},
   "outputs": [
    {
     "name": "stdout",
     "output_type": "stream",
     "text": [
      "Consider the equation \\( \\cos(x) + \\sin(x) = 0 \\). Compute the number of solutions \\( x \\in [0, \\pi] \\).\n",
      "------------\n",
      "Solve the equation \\( \\cos(x) = -\\sin(x) \\) for \\( x \\in [0, 2\\pi] \\). How many solutions can you find?\n",
      "------------\n"
     ]
    }
   ],
   "source": [
    "for variant in variants:\n",
    "    print(variant)\n",
    "    print(\"------------\")"
   ]
  },
  {
   "cell_type": "code",
   "execution_count": 79,
   "metadata": {},
   "outputs": [
    {
     "name": "stdout",
     "output_type": "stream",
     "text": [
      "Number of solutions in [0, π]: 1\n"
     ]
    }
   ],
   "source": [
    "import numpy as np\n",
    "import math\n",
    "\n",
    "def f(x):\n",
    "    return math.cos(x) + math.sin(x)\n",
    "\n",
    "def count_roots(num_points=1000000):\n",
    "    # Create a grid of points between 0 and π\n",
    "    xs = np.linspace(0, math.pi, num_points)\n",
    "    \n",
    "    # Evaluate f(x) over the grid\n",
    "    f_values = [f(x) for x in xs]\n",
    "    \n",
    "    count = 0\n",
    "    # Look for sign changes between consecutive points\n",
    "    for i in range(len(f_values) - 1):\n",
    "        if f_values[i] * f_values[i+1] < 0:\n",
    "            count += 1\n",
    "    return count\n",
    "\n",
    "if __name__ == '__main__':\n",
    "    num_solutions = count_roots()\n",
    "    print(\"Number of solutions in [0, π]:\", num_solutions)\n"
   ]
  }
 ],
 "metadata": {
  "kernelspec": {
   "display_name": "Python 3",
   "language": "python",
   "name": "python3"
  },
  "language_info": {
   "codemirror_mode": {
    "name": "ipython",
    "version": 3
   },
   "file_extension": ".py",
   "mimetype": "text/x-python",
   "name": "python",
   "nbconvert_exporter": "python",
   "pygments_lexer": "ipython3",
   "version": "3.9.6"
  }
 },
 "nbformat": 4,
 "nbformat_minor": 2
}
